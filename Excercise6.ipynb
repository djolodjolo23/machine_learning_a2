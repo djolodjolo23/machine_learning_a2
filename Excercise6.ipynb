{
 "cells": [
  {
   "cell_type": "code",
   "execution_count": 1,
   "metadata": {
    "collapsed": true,
    "ExecuteTime": {
     "start_time": "2023-04-28T18:19:43.245424Z",
     "end_time": "2023-04-28T18:19:45.186352Z"
    }
   },
   "outputs": [],
   "source": [
    "import pandas as pd\n",
    "import numpy as np\n",
    "from sklearn.linear_model import LinearRegression\n",
    "import Functions as f"
   ]
  },
  {
   "cell_type": "markdown",
   "source": [
    "1. Start by splitting the data 4:1 as training and validation randomly (for grading purposes please use np.random.seed(1))."
   ],
   "metadata": {
    "collapsed": false
   }
  },
  {
   "cell_type": "code",
   "execution_count": 2,
   "outputs": [],
   "source": [
    "data = pd.read_csv('data/cars-mpg.csv').to_numpy()\n",
    "# split the x_train, y_train, x_test, y_test with sklearn train test split, first row is the label\n",
    "from sklearn.model_selection import train_test_split\n",
    "random_state = np.random.seed(1)\n",
    "x_train, x_test, y_train, y_test = train_test_split(data[:,1:], data[:,0], test_size=0.2, random_state=random_state)"
   ],
   "metadata": {
    "collapsed": false,
    "ExecuteTime": {
     "start_time": "2023-04-28T18:19:45.190353Z",
     "end_time": "2023-04-28T18:19:45.218220Z"
    }
   }
  },
  {
   "cell_type": "markdown",
   "source": [
    "2. Implement the forward selection algorithm as discussed in Lecture 6 (see lecture notes for\n",
    "details). In the loop use the training MSE to find the best model in each iteration. The\n",
    "algorithm should produce p + 1 models M0, ..., Mp, where Mi is the best model using\n",
    "i features. In terms of output, an alternative could be to let the algorithm produce a\n",
    "p-dimensional vector where its first entry is the feature in M1, its second entry is the new\n",
    "feature in M2 etc."
   ],
   "metadata": {
    "collapsed": false
   }
  },
  {
   "cell_type": "code",
   "execution_count": 5,
   "outputs": [],
   "source": [
    "num_of_features = x_train.shape[1]\n",
    "\n",
    "def feature_selection():\n",
    "    models = []\n",
    "    base = np.ones((x_train.shape[0], 1))\n",
    "    #M0\n",
    "    models.append(base)\n",
    "    mse = 0\n",
    "    base_temp = np.empty((x_train.shape[0], 1))\n",
    "    for i in range(num_of_features):\n",
    "        for j in range(num_of_features):\n",
    "            current_feature = x_train[:, j].reshape(-1,1)\n",
    "            new_base = np.c_[base, current_feature]\n",
    "            model = LinearRegression()\n",
    "            model.fit(new_base, y_train)\n",
    "            y_pred = model.predict(new_base)\n",
    "            mse_current = ((y_pred - y_train) ** 2).mean()\n",
    "            if mse == 0 or mse_current < mse:\n",
    "                mse = mse_current\n",
    "                base_temp = new_base\n",
    "            np.delete(new_base, 1, axis=1)\n",
    "        models.append(base_temp)\n",
    "        base = base_temp\n",
    "    return models\n",
    "\n",
    "models = feature_selection()"
   ],
   "metadata": {
    "collapsed": false,
    "ExecuteTime": {
     "start_time": "2023-04-28T18:20:28.269349Z",
     "end_time": "2023-04-28T18:21:42.688739Z"
    }
   }
  },
  {
   "cell_type": "markdown",
   "source": [
    "Apply your forward selection on the GPUbenchmark.csv. Use the validation set to find\n",
    "the best model among all Mi, i = 1; : : : ; 6. Which is the best model? Which is the most\n",
    "important feature, i.e. selected first?"
   ],
   "metadata": {
    "collapsed": false
   }
  },
  {
   "cell_type": "code",
   "execution_count": 8,
   "outputs": [],
   "source": [
    "gpus = pd.read_csv('data/GPUbenchmark.csv').to_numpy()\n",
    "x_train, x_test, y_train, y_test = train_test_split(gpus[:,1:], gpus[:,0], test_size=0.2, random_state=random_state)\n",
    "\n",
    "num_of_features = x_train.shape[1]\n",
    "models_gpu = f.feature_selection(x_train, y_train, num_of_features, LinearRegression)"
   ],
   "metadata": {
    "collapsed": false,
    "ExecuteTime": {
     "start_time": "2023-04-28T18:30:46.597461Z",
     "end_time": "2023-04-28T18:31:28.191006Z"
    }
   }
  },
  {
   "cell_type": "markdown",
   "source": [
    "\n"
   ],
   "metadata": {
    "collapsed": false
   }
  }
 ],
 "metadata": {
  "kernelspec": {
   "display_name": "Python 3",
   "language": "python",
   "name": "python3"
  },
  "language_info": {
   "codemirror_mode": {
    "name": "ipython",
    "version": 2
   },
   "file_extension": ".py",
   "mimetype": "text/x-python",
   "name": "python",
   "nbconvert_exporter": "python",
   "pygments_lexer": "ipython2",
   "version": "2.7.6"
  }
 },
 "nbformat": 4,
 "nbformat_minor": 0
}
