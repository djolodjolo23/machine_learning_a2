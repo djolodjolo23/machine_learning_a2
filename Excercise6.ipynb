{
 "cells": [
  {
   "cell_type": "code",
   "execution_count": 53,
   "metadata": {
    "collapsed": true,
    "ExecuteTime": {
     "start_time": "2023-04-29T19:35:08.757709Z",
     "end_time": "2023-04-29T19:35:08.794711Z"
    }
   },
   "outputs": [],
   "source": [
    "import pandas as pd\n",
    "import numpy as np\n",
    "from sklearn.linear_model import LinearRegression\n",
    "import Functions as f"
   ]
  },
  {
   "cell_type": "markdown",
   "source": [
    "1. Start by splitting the data 4:1 as training and validation randomly (for grading purposes please use np.random.seed(1))."
   ],
   "metadata": {
    "collapsed": false
   }
  },
  {
   "cell_type": "code",
   "execution_count": 54,
   "outputs": [],
   "source": [
    "data = pd.read_csv('data/cars-mpg.csv').to_numpy()\n",
    "# split the x_train, y_train, x_test, y_test with sklearn train test split, first row is the label\n",
    "from sklearn.model_selection import train_test_split\n",
    "x_train, x_test, y_train, y_test = train_test_split(data[:,1:], data[:,0], test_size=0.20)\n"
   ],
   "metadata": {
    "collapsed": false,
    "ExecuteTime": {
     "start_time": "2023-04-29T19:35:08.780712Z",
     "end_time": "2023-04-29T19:35:08.796709Z"
    }
   }
  },
  {
   "cell_type": "markdown",
   "source": [
    "2. Implement the forward selection algorithm as discussed in Lecture 6 (see lecture notes for\n",
    "details). In the loop use the training MSE to find the best model in each iteration. The\n",
    "algorithm should produce p + 1 models M0, ..., Mp, where Mi is the best model using\n",
    "i features. In terms of output, an alternative could be to let the algorithm produce a\n",
    "p-dimensional vector where its first entry is the feature in M1, its second entry is the new\n",
    "feature in M2 etc."
   ],
   "metadata": {
    "collapsed": false
   }
  },
  {
   "cell_type": "code",
   "execution_count": 55,
   "outputs": [
    {
     "name": "stdout",
     "output_type": "stream",
     "text": [
      "0\n",
      "1\n",
      "2\n",
      "3\n",
      "4\n",
      "5\n",
      "6\n",
      "[[1.]\n",
      " [1.]\n",
      " [1.]\n",
      " [1.]\n",
      " [1.]]\n",
      "Model features (index from the training data):  []\n",
      "[[1.000e+00 2.164e+03]\n",
      " [1.000e+00 1.773e+03]\n",
      " [1.000e+00 3.102e+03]\n",
      " [1.000e+00 2.965e+03]\n",
      " [1.000e+00 4.615e+03]]\n",
      "Model features (index from the training data):  [3]\n",
      "[[1.000e+00 2.164e+03 7.600e+01]\n",
      " [1.000e+00 1.773e+03 7.100e+01]\n",
      " [1.000e+00 3.102e+03 7.400e+01]\n",
      " [1.000e+00 2.965e+03 7.800e+01]\n",
      " [1.000e+00 4.615e+03 7.000e+01]]\n",
      "Model features (index from the training data):  [3, 5]\n",
      "[[1.000e+00 2.164e+03 7.600e+01 1.000e+00]\n",
      " [1.000e+00 1.773e+03 7.100e+01 3.000e+00]\n",
      " [1.000e+00 3.102e+03 7.400e+01 1.000e+00]\n",
      " [1.000e+00 2.965e+03 7.800e+01 1.000e+00]\n",
      " [1.000e+00 4.615e+03 7.000e+01 1.000e+00]]\n",
      "Model features (index from the training data):  [3, 5, 6]\n",
      "[[1.000e+00 2.164e+03 7.600e+01 1.000e+00 9.800e+01]\n",
      " [1.000e+00 1.773e+03 7.100e+01 3.000e+00 7.100e+01]\n",
      " [1.000e+00 3.102e+03 7.400e+01 1.000e+00 1.980e+02]\n",
      " [1.000e+00 2.965e+03 7.800e+01 1.000e+00 2.000e+02]\n",
      " [1.000e+00 4.615e+03 7.000e+01 1.000e+00 3.600e+02]]\n",
      "Model features (index from the training data):  [3, 5, 6, 1]\n",
      "[[1.000e+00 2.164e+03 7.600e+01 1.000e+00 9.800e+01 2.210e+01]\n",
      " [1.000e+00 1.773e+03 7.100e+01 3.000e+00 7.100e+01 1.900e+01]\n",
      " [1.000e+00 3.102e+03 7.400e+01 1.000e+00 1.980e+02 1.650e+01]\n",
      " [1.000e+00 2.965e+03 7.800e+01 1.000e+00 2.000e+02 1.580e+01]\n",
      " [1.000e+00 4.615e+03 7.000e+01 1.000e+00 3.600e+02 1.400e+01]]\n",
      "Model features (index from the training data):  [3, 5, 6, 1, 4]\n",
      "[[1.000e+00 2.164e+03 7.600e+01 1.000e+00 9.800e+01 2.210e+01 4.000e+00]\n",
      " [1.000e+00 1.773e+03 7.100e+01 3.000e+00 7.100e+01 1.900e+01 4.000e+00]\n",
      " [1.000e+00 3.102e+03 7.400e+01 1.000e+00 1.980e+02 1.650e+01 6.000e+00]\n",
      " [1.000e+00 2.965e+03 7.800e+01 1.000e+00 2.000e+02 1.580e+01 6.000e+00]\n",
      " [1.000e+00 4.615e+03 7.000e+01 1.000e+00 3.600e+02 1.400e+01 8.000e+00]]\n",
      "Model features (index from the training data):  [3, 5, 6, 1, 4, 0]\n",
      "[[1.000e+00 2.164e+03 7.600e+01 1.000e+00 9.800e+01 2.210e+01 4.000e+00\n",
      "  6.000e+01]\n",
      " [1.000e+00 1.773e+03 7.100e+01 3.000e+00 7.100e+01 1.900e+01 4.000e+00\n",
      "  6.500e+01]\n",
      " [1.000e+00 3.102e+03 7.400e+01 1.000e+00 1.980e+02 1.650e+01 6.000e+00\n",
      "  9.500e+01]\n",
      " [1.000e+00 2.965e+03 7.800e+01 1.000e+00 2.000e+02 1.580e+01 6.000e+00\n",
      "  8.500e+01]\n",
      " [1.000e+00 4.615e+03 7.000e+01 1.000e+00 3.600e+02 1.400e+01 8.000e+00\n",
      "  2.150e+02]]\n",
      "Model features (index from the training data):  [3, 5, 6, 1, 4, 0, 2]\n"
     ]
    }
   ],
   "source": [
    "num_of_features = x_train.shape[1]\n",
    "models = f.feature_selection(x_train, y_train, num_of_features, LinearRegression)\n",
    "for model in models:\n",
    "    numpy_model = np.array(model[0])\n",
    "    print(numpy_model[:5, :])\n",
    "    print(\"Model features (index from the training data): \", model[1])"
   ],
   "metadata": {
    "collapsed": false,
    "ExecuteTime": {
     "start_time": "2023-04-29T19:35:08.797709Z",
     "end_time": "2023-04-29T19:35:08.839709Z"
    }
   }
  },
  {
   "cell_type": "markdown",
   "source": [],
   "metadata": {
    "collapsed": false
   }
  },
  {
   "cell_type": "markdown",
   "source": [
    "\n"
   ],
   "metadata": {
    "collapsed": false
   }
  }
 ],
 "metadata": {
  "kernelspec": {
   "display_name": "Python 3",
   "language": "python",
   "name": "python3"
  },
  "language_info": {
   "codemirror_mode": {
    "name": "ipython",
    "version": 2
   },
   "file_extension": ".py",
   "mimetype": "text/x-python",
   "name": "python",
   "nbconvert_exporter": "python",
   "pygments_lexer": "ipython2",
   "version": "2.7.6"
  }
 },
 "nbformat": 4,
 "nbformat_minor": 0
}
