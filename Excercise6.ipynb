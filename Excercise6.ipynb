{
 "cells": [
  {
   "cell_type": "code",
   "execution_count": 1,
   "metadata": {
    "collapsed": true,
    "ExecuteTime": {
     "start_time": "2023-04-30T13:10:48.608225Z",
     "end_time": "2023-04-30T13:10:50.227323Z"
    }
   },
   "outputs": [],
   "source": [
    "import pandas as pd\n",
    "import numpy as np\n",
    "from sklearn.linear_model import LinearRegression\n",
    "import Functions as f\n",
    "from sklearn.model_selection import train_test_split"
   ]
  },
  {
   "cell_type": "markdown",
   "source": [
    "1. Start by splitting the data 4:1 as training and validation randomly (for grading purposes please use np.random.seed(1))."
   ],
   "metadata": {
    "collapsed": false
   }
  },
  {
   "cell_type": "code",
   "execution_count": 2,
   "outputs": [
    {
     "name": "stdout",
     "output_type": "stream",
     "text": [
      "[23.  14.  37.  21.  32.3 16.5 15.  19.4 29.8 34.5 15.5 19.  20.  27.2\n",
      " 29.  18.  33.8 25.  23.  17.6 22.  11.  15.  38.1 13.  19.9 32.1 24.\n",
      " 30.7 13.  16.  37.  23.7 18.  20.  34.  14.  24.  23.2 39.4 34.7 23.\n",
      " 19.  15.  34.1 37.2 13.  32.4 31.  25.8 27.2 25.  14.  36.  26.6 14.\n",
      " 32.  11.  35.7 24.  16.  20.  14.  18.  30.  19.  15.  20.2 18.  16.2\n",
      " 18.  13.  16.  34.1 26.6 13.  14.  26.  20.  15.  17.  31.  32.  27.\n",
      " 12.  17.  16.  29.8 36.  17.5 36.  44.6 20.6 22.  24.  36.1 18.  16.\n",
      " 22.  29.  43.1 18.  24.  15.  26.  26.  16.  23.8 13.  21.1 28.  36.1\n",
      " 20.  39.  20.  26.  38.  27.  14.  13.  18.  37.  30.  31.   9.  25.\n",
      " 27.  19.  25.  23.9 18.  40.9 20.5 32.2 19.  31.5 17.  34.  14.  15.\n",
      " 15.  22.  18.6 17.  44.  32.  15.5 36.  22.  46.6 18.  26.5 23.  36.\n",
      " 19.  21.  23.  25.5 37.3 14.  24.  23.  21.  12.  31.  20.  17.  13.\n",
      " 21.  40.8 17.5 25.  28.  16.  34.2 16.  16.5 25.4 30.  22.4 15.5 30.\n",
      " 26.  26.4 31.9 19.2 33.  18.  26.  24.  23.9 23.  35.1 35.  19.  22.5\n",
      " 33.  28.  43.4 11.  33.5 26.  16.9 20.  13.  24.  14.  26.  17.5 19.\n",
      " 44.3 15.  30.9 13.  19.  30.5 24.  28.4 19.  31.6 25.  23.  14.  18.\n",
      " 22.  17.7 27.  24.  34.4 18.  30.  19.2 20.5 20.8 25.  31.  24.2 34.5\n",
      " 14.5 13.  21.5 38.  13.  30.  26.  32.7 30.  18.2 16.  13.  28.  33.7\n",
      " 15.  29.5 21.  29.  17.5 27.  12.  18.  22.3 20.5 10.  24.5 15.  22.\n",
      " 25.4 21.  23.6 33.5 10.  18.  13.  21.5 16.  28.  23.  38.  28.  15.\n",
      " 15.  27.  31.5 18.1 19.  19.1 15.  28.  25.  34.3 31.3 14.  29.  14.\n",
      " 29.9 22.  13.  13.  28.  16.  19.2 32.9 20.2 21.6 23.  19.8 30.5 19.\n",
      " 31.  31.  35.  16.  29.5 27.  25.1 15.  26.  18. ]\n"
     ]
    }
   ],
   "source": [
    "data = pd.read_csv('data/cars-mpg.csv').to_numpy()\n",
    "random_state = np.random.seed(1)\n",
    "x_train, x_test, y_train, y_test = train_test_split(data[:,1:], data[:,0], test_size=0.20, random_state=random_state)\n",
    "print(y_train)"
   ],
   "metadata": {
    "collapsed": false,
    "ExecuteTime": {
     "start_time": "2023-04-30T13:10:50.228320Z",
     "end_time": "2023-04-30T13:10:50.287250Z"
    }
   }
  },
  {
   "cell_type": "markdown",
   "source": [
    "2. Implement the forward selection algorithm as discussed in Lecture 6 (see lecture notes for\n",
    "details). In the loop use the training MSE to find the best model in each iteration. The\n",
    "algorithm should produce p + 1 models M0, ..., Mp, where Mi is the best model using\n",
    "i features. In terms of output, an alternative could be to let the algorithm produce a\n",
    "p-dimensional vector where its first entry is the feature in M1, its second entry is the new\n",
    "feature in M2 etc."
   ],
   "metadata": {
    "collapsed": false
   }
  },
  {
   "cell_type": "code",
   "execution_count": 3,
   "outputs": [
    {
     "name": "stdout",
     "output_type": "stream",
     "text": [
      "Model features (index from the training data):  []\n",
      "Model features (index from the training data):  [3]\n",
      "Model features (index from the training data):  [3, 5]\n",
      "Model features (index from the training data):  [3, 5, 6]\n",
      "Model features (index from the training data):  [3, 5, 6, 4]\n",
      "Model features (index from the training data):  [3, 5, 6, 4, 1]\n",
      "Model features (index from the training data):  [3, 5, 6, 4, 1, 2]\n",
      "Model features (index from the training data):  [3, 5, 6, 4, 1, 2, 0]\n"
     ]
    }
   ],
   "source": [
    "num_of_features = x_train.shape[1]\n",
    "# the algorithm can be found inside the Functions.py file\n",
    "models = f.feature_selection(x_train, y_train, num_of_features, LinearRegression)\n",
    "for model in models:\n",
    "    numpy_model = np.array(model[0])\n",
    "    print(\"Model features (index from the training data): \", model[1])"
   ],
   "metadata": {
    "collapsed": false,
    "ExecuteTime": {
     "start_time": "2023-04-30T13:10:50.261554Z",
     "end_time": "2023-04-30T13:10:50.370918Z"
    }
   }
  },
  {
   "cell_type": "markdown",
   "source": [],
   "metadata": {
    "collapsed": false
   }
  },
  {
   "cell_type": "markdown",
   "source": [
    "\n"
   ],
   "metadata": {
    "collapsed": false
   }
  }
 ],
 "metadata": {
  "kernelspec": {
   "display_name": "Python 3",
   "language": "python",
   "name": "python3"
  },
  "language_info": {
   "codemirror_mode": {
    "name": "ipython",
    "version": 2
   },
   "file_extension": ".py",
   "mimetype": "text/x-python",
   "name": "python",
   "nbconvert_exporter": "python",
   "pygments_lexer": "ipython2",
   "version": "2.7.6"
  }
 },
 "nbformat": 4,
 "nbformat_minor": 0
}
