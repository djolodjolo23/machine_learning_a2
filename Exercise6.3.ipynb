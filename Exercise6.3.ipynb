{
 "cells": [
  {
   "cell_type": "code",
   "execution_count": 2,
   "outputs": [],
   "source": [
    "import pandas as pd\n",
    "import numpy as np\n",
    "import Functions as f\n",
    "from sklearn.model_selection import train_test_split\n",
    "from sklearn.linear_model import LinearRegression"
   ],
   "metadata": {
    "collapsed": false,
    "ExecuteTime": {
     "start_time": "2023-04-29T19:20:32.560810Z",
     "end_time": "2023-04-29T19:20:35.290730Z"
    }
   }
  },
  {
   "cell_type": "code",
   "execution_count": 19,
   "metadata": {
    "collapsed": true,
    "ExecuteTime": {
     "start_time": "2023-04-29T19:34:32.172322Z",
     "end_time": "2023-04-29T19:34:32.229444Z"
    }
   },
   "outputs": [
    {
     "name": "stdout",
     "output_type": "stream",
     "text": [
      "0\n",
      "1\n",
      "2\n",
      "3\n",
      "4\n",
      "5\n",
      "[33415.41930936903, 45107.12432256576, 26188.432638389466, 26899.880224168563, 24400.669044911807, 28219.108328096758]\n"
     ]
    }
   ],
   "source": [
    "gpus = pd.read_csv('data/GPUbenchmark.csv').to_numpy()\n",
    "random_state = np.random.seed(1)\n",
    "x_train, x_val, y_train, y_val = train_test_split(gpus[:,1:], gpus[:,0], test_size=0.2, random_state=random_state)\n",
    "num_of_features = x_train.shape[1]\n",
    "\n",
    "models = f.feature_selection(x_train, y_train, num_of_features, LinearRegression)\n",
    "\n",
    "mse_values = []\n",
    "x_val_base = np.ones((x_val.shape[0], 1))\n",
    "for i in range(len(models) - 1):\n",
    "    # skip the first model, because it is the model with no features\n",
    "    model = models[i + 1]\n",
    "    numpy_model = np.array(model[0])\n",
    "    feature_indexes = model[1]\n",
    "    feature_index = feature_indexes[-1]\n",
    "    x_val_base_with_new_col = np.hstack((x_val_base, x_val[:, feature_index].reshape((-1, 1))))\n",
    "    x_val_base = x_val_base_with_new_col\n",
    "    X_val_subset = x_val[:, feature_indexes]\n",
    "    logReg = LinearRegression()\n",
    "    logReg.fit(numpy_model, y_train)\n",
    "    y_pred_val = logReg.predict(x_val_base)\n",
    "    val_mse = ((y_pred_val - y_val) ** 2).mean()\n",
    "    mse_values.append(val_mse)\n",
    "\n",
    "print(mse_values)\n"
   ]
  },
  {
   "cell_type": "markdown",
   "source": [],
   "metadata": {
    "collapsed": false
   }
  }
 ],
 "metadata": {
  "kernelspec": {
   "display_name": "Python 3",
   "language": "python",
   "name": "python3"
  },
  "language_info": {
   "codemirror_mode": {
    "name": "ipython",
    "version": 2
   },
   "file_extension": ".py",
   "mimetype": "text/x-python",
   "name": "python",
   "nbconvert_exporter": "python",
   "pygments_lexer": "ipython2",
   "version": "2.7.6"
  }
 },
 "nbformat": 4,
 "nbformat_minor": 0
}
