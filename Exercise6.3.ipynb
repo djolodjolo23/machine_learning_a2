{
 "cells": [
  {
   "cell_type": "code",
   "execution_count": 31,
   "outputs": [],
   "source": [
    "import pandas as pd\n",
    "import numpy as np\n",
    "import Functions as f\n",
    "from sklearn.model_selection import train_test_split\n",
    "from sklearn.linear_model import LinearRegression"
   ],
   "metadata": {
    "collapsed": false,
    "ExecuteTime": {
     "start_time": "2023-04-30T13:10:15.990088Z",
     "end_time": "2023-04-30T13:10:16.011166Z"
    }
   }
  },
  {
   "cell_type": "code",
   "execution_count": 32,
   "metadata": {
    "collapsed": true,
    "ExecuteTime": {
     "start_time": "2023-04-30T13:10:16.015219Z",
     "end_time": "2023-04-30T13:10:16.039902Z"
    }
   },
   "outputs": [],
   "source": [
    "data = pd.read_csv('data/GPUbenchmark.csv').to_numpy()\n",
    "random_state = np.random.seed(1)\n",
    "x_train, x_val, y_train, y_val = train_test_split(data[:,1:], data[:,0], test_size=0.2, random_state=random_state)"
   ]
  },
  {
   "cell_type": "code",
   "execution_count": 33,
   "outputs": [
    {
     "name": "stdout",
     "output_type": "stream",
     "text": [
      "The smallest MSE value calculated from the validation set is:  24400.669044911807\n",
      "which corresponds to the model: Model 4 with features [4, 1, 5, 0]\n",
      "The features in order of importance are:  [4, 1, 5, 0, 3, 2] where the first feature is the most important one.\n"
     ]
    }
   ],
   "source": [
    "num_of_features = x_train.shape[1]\n",
    "\n",
    "models = f.feature_selection(x_train, y_train, num_of_features, LinearRegression)\n",
    "\n",
    "mse_values = []\n",
    "features_in_order = []\n",
    "val_models = []\n",
    "x_val_base = np.ones((x_val.shape[0], 1))\n",
    "for i in range(len(models) - 1):\n",
    "    # I am skipping the first model since it's a model with no features\n",
    "    model = models[i + 1]\n",
    "    numpy_model = np.array(model[0])\n",
    "    feature_indexes = model[1]\n",
    "    feature_index = feature_indexes[-1]\n",
    "    x_val_base_with_new_col = np.hstack((x_val_base, x_val[:, feature_index].reshape((-1, 1))))\n",
    "    x_val_base = x_val_base_with_new_col\n",
    "    X_val_subset = x_val[:, feature_indexes]\n",
    "    linreg = LinearRegression()\n",
    "    linreg.fit(numpy_model, y_train)\n",
    "    y_pred_val = linreg.predict(x_val_base)\n",
    "    val_mse = ((y_pred_val - y_val) ** 2).mean()\n",
    "    mse_values.append(val_mse)\n",
    "    features_in_order.append(feature_index)\n",
    "    val_models.append(x_val_base)\n",
    "\n",
    "print(\"The smallest MSE value calculated from the validation set is: \", min(mse_values))\n",
    "print(\"which corresponds to the model: Model\", mse_values.index(min(mse_values)), \"with features\", features_in_order[:mse_values.index(min(mse_values))])\n",
    "print(\"The features in order of importance are: \", features_in_order, \"where the first feature is the most important one.\")"
   ],
   "metadata": {
    "collapsed": false,
    "ExecuteTime": {
     "start_time": "2023-04-30T13:10:16.065977Z",
     "end_time": "2023-04-30T13:10:16.158989Z"
    }
   }
  },
  {
   "cell_type": "markdown",
   "source": [],
   "metadata": {
    "collapsed": false
   }
  }
 ],
 "metadata": {
  "kernelspec": {
   "display_name": "Python 3",
   "language": "python",
   "name": "python3"
  },
  "language_info": {
   "codemirror_mode": {
    "name": "ipython",
    "version": 2
   },
   "file_extension": ".py",
   "mimetype": "text/x-python",
   "name": "python",
   "nbconvert_exporter": "python",
   "pygments_lexer": "ipython2",
   "version": "2.7.6"
  }
 },
 "nbformat": 4,
 "nbformat_minor": 0
}
