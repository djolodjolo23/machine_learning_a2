{
 "cells": [
  {
   "cell_type": "code",
   "execution_count": 897,
   "metadata": {
    "collapsed": true
   },
   "outputs": [],
   "source": [
    "import numpy as np\n",
    "import pandas as pd\n",
    "import matplotlib.pyplot as plt\n",
    "import Functions as f"
   ]
  },
  {
   "cell_type": "markdown",
   "source": [
    "1. Read data and shuffle the rows in the raw data matrix:"
   ],
   "metadata": {
    "collapsed": false
   }
  },
  {
   "cell_type": "code",
   "execution_count": 898,
   "outputs": [],
   "source": [
    "data = pd.read_csv('data/banknote_authentication.csv').to_numpy()\n",
    "np.random.shuffle(data)"
   ],
   "metadata": {
    "collapsed": false
   }
  },
  {
   "cell_type": "markdown",
   "source": [
    "2. Divide the data into suitable sized train and test set"
   ],
   "metadata": {
    "collapsed": false
   }
  },
  {
   "cell_type": "code",
   "execution_count": 899,
   "outputs": [],
   "source": [
    "splitting_index = int(len(data) * 0.8)\n",
    "X_train, X_test = data[:splitting_index, :4], data[splitting_index:, :4]\n",
    "y_train, y_test = data[:splitting_index, 4], data[splitting_index:, 4]"
   ],
   "metadata": {
    "collapsed": false
   }
  },
  {
   "cell_type": "markdown",
   "source": [
    "3. Normalize the training data and train a linear logistic regression model using gradient\n",
    "descent. Print the hyperparameters alpha and N(iter) and plot the cost function J(beta) as a\n",
    "function over iterations.\n"
   ],
   "metadata": {
    "collapsed": false
   }
  },
  {
   "cell_type": "code",
   "execution_count": 900,
   "outputs": [
    {
     "data": {
      "text/plain": "<Figure size 432x288 with 1 Axes>",
      "image/png": "[encoded data removed]"
     },
     "metadata": {
      "needs_background": "light"
     },
     "output_type": "display_data"
    }
   ],
   "source": [
    "\n",
    "Xn = f.feature_normalization(X_train)\n",
    "Xe = np.array([np.ones(Xn.shape[0]), Xn[:, 0], Xn[:, 1], Xn[:, 2], Xn[:, 3]]).T\n",
    "J_values = []\n",
    "N_iter = 600\n",
    "alpha = 0.5\n",
    "beta = f.gradient_descent_logistic(Xe, y_train, alpha, N_iter, J_values)\n",
    "# plotting the cost function to show the decrease\n",
    "plt.plot(range(N_iter + 1), J_values)\n",
    "plt.title(f\"alpha={0.5}\" f\", number of iterations={N_iter}\")\n",
    "plt.xlabel('Number of iterations')\n",
    "plt.ylabel('Cost J')\n",
    "plt.show()"
   ],
   "metadata": {
    "collapsed": false
   }
  },
  {
   "cell_type": "markdown",
   "source": [
    "4.  What is the training error (number of non-correct classifications in the training data) and\n",
    "the training accuracy (percentage of correct classifications) for your model?\n"
   ],
   "metadata": {
    "collapsed": false
   }
  },
  {
   "cell_type": "code",
   "execution_count": 901,
   "outputs": [
    {
     "name": "stdout",
     "output_type": "stream",
     "text": [
      "Amount of training errors in the iteration: 19, accuracy: 98.3%, total samples: 1096\n"
     ]
    }
   ],
   "source": [
    "Xn = f.feature_normalization(X_train)\n",
    "Xe = np.array([np.ones(Xn.shape[0]), Xn[:, 0], Xn[:, 1], Xn[:, 2], Xn[:, 3]]).T\n",
    "training_err = f.training_errors(Xe, beta, y_train)\n",
    "total_samples = len(X_train)\n",
    "acc = (total_samples - training_err) / total_samples\n",
    "acc_percentage = round(acc * 100, 1)\n",
    "print(f\"Amount of training errors in the iteration: {training_err}\" f\", accuracy: {acc_percentage}%\" f\", total samples: {total_samples}\")"
   ],
   "metadata": {
    "collapsed": false
   }
  },
  {
   "cell_type": "markdown",
   "source": [
    "After repeated shuffling of the training data and running the task four, the amount of training errors between each iteration varies\n",
    "from 18 to 24, and the accuracy does not go bellow 97,9 percent."
   ],
   "metadata": {
    "collapsed": false
   }
  },
  {
   "cell_type": "markdown",
   "source": [
    "5. What is the number of test error and the test accuracy for your model?\n"
   ],
   "metadata": {
    "collapsed": false
   }
  },
  {
   "cell_type": "code",
   "execution_count": 902,
   "outputs": [
    {
     "name": "stdout",
     "output_type": "stream",
     "text": [
      "Amount of training errors in the iteration: 7, accuracy: 97.5%, total samples: 275\n"
     ]
    }
   ],
   "source": [
    "Xn = f.feature_normalization(X_test)\n",
    "Xe = np.array([np.ones(Xn.shape[0]), Xn[:, 0], Xn[:, 1], Xn[:, 2], Xn[:, 3]]).T\n",
    "training_err = f.training_errors(Xe, beta, y_test)\n",
    "total_samples = len(X_test)\n",
    "acc = (total_samples - training_err) / total_samples\n",
    "acc_percentage = round(acc * 100, 1)\n",
    "print(f\"Amount of training errors in the iteration: {training_err}\" f\", accuracy: {acc_percentage}%\" f\", total samples: {total_samples}\")"
   ],
   "metadata": {
    "collapsed": false
   }
  },
  {
   "cell_type": "markdown",
   "source": [],
   "metadata": {
    "collapsed": false
   }
  },
  {
   "cell_type": "markdown",
   "source": [
    "After repeated shuffling of the data and running the task five, the amount of test errors seems to vary between 4 and 7, and the accuracy is 97,4 and 98,6 percent."
   ],
   "metadata": {
    "collapsed": false
   }
  },
  {
   "cell_type": "markdown",
   "source": [
    "6.  Repeated runs will (due to the shuffling) give different results. Are they qualitatively\n",
    "the same? Do they depend on how many observations you put aside for testing? Is the\n",
    "difference between training and testing expected?\n"
   ],
   "metadata": {
    "collapsed": false
   }
  },
  {
   "cell_type": "code",
   "execution_count": 903,
   "outputs": [
    {
     "name": "stdout",
     "output_type": "stream",
     "text": [
      "TRAINING_DATA\t\t\t\t\t\t\t\t\t\t\tTESTING_DATA\n",
      "errors: 12, accuracy: 98.5%, samples: 822\t\terrors:10, accuracy98.2 samples:549\n",
      "errors: 16, accuracy: 98.1%, samples: 822\t\terrors:10, accuracy98.2 samples:549\n",
      "errors: 12, accuracy: 98.5%, samples: 822\t\terrors:15, accuracy97.3 samples:549\n",
      "errors: 12, accuracy: 98.5%, samples: 822\t\terrors:12, accuracy97.8 samples:549\n",
      "errors: 15, accuracy: 98.2%, samples: 822\t\terrors:11, accuracy98.0 samples:549\n",
      "errors: 17, accuracy: 97.9%, samples: 822\t\terrors:11, accuracy98.0 samples:549\n",
      "Average number of errors: 14.0\t\t\t\t\tAverage number of errors: 11.5 \n"
     ]
    }
   ],
   "source": [
    "# Created a for loop that runs 6 times to compare the accuracy and training errors for training and testing data.\n",
    "print(\"TRAINING_DATA\\t\\t\\t\\t\\t\\t\\t\\t\\t\\t\\tTESTING_DATA\")\n",
    "avg_errors_training = []\n",
    "avg_errors_testing = []\n",
    "for i in range(6):\n",
    "    np.random.shuffle(data)\n",
    "    splitting_index = int(len(data) * 0.6) # here I tried using different splitting index to test with different percentage of training/testing data\n",
    "    X_train, X_test = data[:splitting_index, :4], data[splitting_index:, :4]\n",
    "    y_train, y_test = data[:splitting_index, 4], data[splitting_index:, 4]\n",
    "    Xn_train = f.feature_normalization(X_train)\n",
    "    Xe_train = np.array([np.ones(Xn_train.shape[0]), Xn_train[:, 0], Xn_train[:, 1], Xn_train[:, 2], Xn_train[:, 3]]).T\n",
    "    training_err = f.training_errors(Xe_train, beta, y_train)\n",
    "    total_samples_training = len(X_train)\n",
    "    acc_training = (total_samples_training - training_err) / total_samples_training\n",
    "    acc_percentage_training = round(acc_training * 100, 1)\n",
    "    avg_errors_training.append(training_err)\n",
    "\n",
    "    Xn_test = f.feature_normalization(X_test)\n",
    "    Xe_test = np.array([np.ones(Xn_test.shape[0]), Xn_test[:, 0], Xn_test[:, 1], Xn_test[:, 2], Xn_test[:, 3]]).T\n",
    "    testing_err = f.training_errors(Xe_test, beta, y_test)\n",
    "    total_samples_testing = len(X_test)\n",
    "    acc_testing = (total_samples_testing - testing_err) / total_samples_testing\n",
    "    acc_percentage_testing = round(acc_testing * 100, 1)\n",
    "    avg_errors_testing.append(testing_err)\n",
    "    print(f\"errors: {training_err}\" f\", accuracy: {acc_percentage_training}%\" f\", samples: {total_samples_training}\\t\\t\" f\"errors:{testing_err}\" f\", accuracy{acc_percentage_testing}\", f\"samples:{total_samples_testing}\")\n",
    "\n",
    "avg_train_err = round(sum(avg_errors_training) / len(avg_errors_training), 1)\n",
    "avg_test_err = round(sum(avg_errors_testing) / len(avg_errors_testing), 1)\n",
    "print(f\"Average number of errors: {avg_train_err}\\t\\t\\t\\t\\t\" f\"Average number of errors: {avg_test_err} \")"
   ],
   "metadata": {
    "collapsed": false
   }
  },
  {
   "cell_type": "markdown",
   "source": [
    "I tried using several different percentages for splitting the dataset. When using 50/50 for training and testing, the model produces less average errors\n",
    "for the training data, which can be expected since it is trained with the training data set and the sizes of the two are the same.\n",
    "By increasing the amount of training data to 60/40, the number of errors in the training data increases and the errors in the testing data decreases,\n",
    "which is also expected since it's obvious that the amount of errors will increase as how the data increases, and that the errors will decrease as how the data\n",
    "decreases. However, the accuracy for the both testing and training data remains relatively the same for each combination training/testing data (varies from 97% to 99%), which proves that the model is working correctly, and will work correctly with any amount of input data."
   ],
   "metadata": {
    "collapsed": false
   }
  }
 ],
 "metadata": {
  "kernelspec": {
   "display_name": "Python 3",
   "language": "python",
   "name": "python3"
  },
  "language_info": {
   "codemirror_mode": {
    "name": "ipython",
    "version": 2
   },
   "file_extension": ".py",
   "mimetype": "text/x-python",
   "name": "python",
   "nbconvert_exporter": "python",
   "pygments_lexer": "ipython2",
   "version": "2.7.6"
  }
 },
 "nbformat": 4,
 "nbformat_minor": 0
}
